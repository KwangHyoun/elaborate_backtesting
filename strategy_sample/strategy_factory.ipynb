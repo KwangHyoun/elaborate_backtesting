{
 "cells": [
  {
   "cell_type": "code",
   "execution_count": 1,
   "metadata": {},
   "outputs": [
    {
     "name": "stdout",
     "output_type": "stream",
     "text": "File loading...complete!! 3.6022047996520996 sec\nFile unpacking...complete 1.191260814666748 sec\n"
    }
   ],
   "source": [
    "from data_loading import pack"
   ]
  },
  {
   "cell_type": "code",
   "execution_count": 2,
   "metadata": {},
   "outputs": [],
   "source": [
    "import pandas as pd\n",
    "import numpy as np\n",
    "import time\n",
    "import matplotlib.pyplot as plt\n",
    "\n",
    "import warnings\n",
    "warnings.filterwarnings(action='ignore')"
   ]
  },
  {
   "cell_type": "markdown",
   "metadata": {},
   "source": [
    "<br>\n",
    "<br>\n",
    "\n",
    "## __I. Daily Strategy__\n",
    "---\n",
    "- Daily Trading \n",
    "    - 당일 매수 종목 당일 청산"
   ]
  },
  {
   "cell_type": "markdown",
   "metadata": {},
   "source": [
    "<br>\n",
    "<br>\n",
    "\n",
    "### __Daily Strategy 01 & 02__\n",
    "\n",
    "---"
   ]
  },
  {
   "cell_type": "code",
   "execution_count": 3,
   "metadata": {},
   "outputs": [],
   "source": [
    "# Daily Trading Type1 - Buy & Sell on the day\n",
    "test_from = '2010-01-01'\n",
    "test_to = '2019-10-31'\n",
    "\n",
    "# Condition Table is given"
   ]
  },
  {
   "cell_type": "code",
   "execution_count": 9,
   "metadata": {},
   "outputs": [],
   "source": [
    "# We need Filtered Data(Except Holiday&Weekend)\n",
    "\n",
    "# 하루 최대 변동폭(양수) / (종가 - 시가)\n",
    "# 양수 = 상승마감 \n",
    "# 음수 = 하락마감 \n",
    "# 1<value<2 ; 안정적 상승\n",
    "\n",
    "stg_01 = (pack.price_pack.price_high.value - pack.price_pack.price_low.value)/(pack.price_pack.price.value-pack.price_pack.price_open.value)\n",
    "stg_01 = stg_01.loc[pack.market_open]\n",
    "stg_01 = stg_01.loc[test_from:test_to]\n",
    "\n",
    "cond_t = pd.DataFrame(np.where((stg_01>1)&(stg_01<1.1), True, False), columns = stg_01.columns, index=stg_01.index)\n",
    "stg_01 = stg_01[cond_t]\n",
    "\n",
    "stg_01.dropna(axis=1, how='all', inplace=True)\n",
    "stg_01.dropna(axis=0, how='all', inplace=True)\n",
    "\n",
    "stg_01_w = stg_01.apply(lambda row: row/row.sum(), axis=1) # 포트폴리오 내 종목 비중\n",
    "stg_01_w = stg_01_w.shift(1).dropna(axis=0, how='all') # 다음 날 구매\n",
    "stg_01_w.sort_index(inplace=True)"
   ]
  },
  {
   "cell_type": "code",
   "execution_count": 10,
   "metadata": {},
   "outputs": [],
   "source": [
    "stg_02 = (pack.price_pack.price_high.value - pack.price_pack.price_low.value)/(pack.price_pack.price.value-pack.price_pack.price_open.value)\n",
    "stg_02 = stg_02.loc[pack.market_open]\n",
    "stg_02 = stg_02.loc[test_from:test_to]\n",
    "\n",
    "cond_t = pd.DataFrame(np.where((stg_02>1.1)&(stg_02<1000), True, False), columns=stg_02.columns, index=stg_02.index)\n",
    "stg_02 = np.log(stg_02[cond_t])\n",
    "\n",
    "stg_02.dropna(axis=1, how='all', inplace=True)\n",
    "stg_02.dropna(axis=0, how='all', inplace=True)\n",
    "\n",
    "stg_02_w = stg_02.apply(lambda row: row/row.sum(), axis=1) # 포트폴리오 내 종목 비중\n",
    "stg_02_w = stg_02_w.shift(1).dropna(axis=0, how='all') # 다음 날 구매\n",
    "stg_02_w.sort_index(inplace=True)"
   ]
  },
  {
   "cell_type": "code",
   "execution_count": 11,
   "metadata": {},
   "outputs": [],
   "source": [
    "stg_01_w.to_pickle('strategy_sample/daily_strategy01.pkl')\n",
    "stg_02_w.to_pickle('strategy_sample/daily_strategy02.pkl')"
   ]
  }
 ],
 "metadata": {
  "kernelspec": {
   "display_name": "Python 3",
   "language": "python",
   "name": "python3"
  },
  "language_info": {
   "codemirror_mode": {
    "name": "ipython",
    "version": 3
   },
   "file_extension": ".py",
   "mimetype": "text/x-python",
   "name": "python",
   "nbconvert_exporter": "python",
   "pygments_lexer": "ipython3",
   "version": "3.7.4"
  }
 },
 "nbformat": 4,
 "nbformat_minor": 4
}